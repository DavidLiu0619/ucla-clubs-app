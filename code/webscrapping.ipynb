{
  "cells": [
    {
      "cell_type": "code",
      "execution_count": 23,
      "metadata": {
        "id": "n5i3EUh2-CHp"
      },
      "outputs": [],
      "source": [
        "import json\n",
        "import requests       # HTTP library for Python :contentReference[oaicite:4]{index=4}\n",
        "from bs4 import BeautifulSoup  # HTML/XML parser :contentReference[oaicite:5]{index=5}\n",
        "import pandas as pd   # Data handling and export :contentReference[oaicite:6]{index=6}\n",
        "import time\n",
        "import os"
      ]
    },
    {
      "cell_type": "code",
      "execution_count": 13,
      "metadata": {
        "colab": {
          "base_uri": "https://localhost:8080/"
        },
        "id": "36_A7jW1_DH7",
        "outputId": "1e21fdcc-14a0-41a0-e46a-1b77ccef8020"
      },
      "outputs": [
        {
          "name": "stdout",
          "output_type": "stream",
          "text": [
            "Libraries loaded. Ready to scrape.\n"
          ]
        }
      ],
      "source": [
        "# Constants\n",
        "BASE_URL = \"https://community.ucla.edu/studentorgs\"\n",
        "RAW_JSON_PATH = \"/Users/davidliu/Desktop/STATS418/ucla-student-orgs-project/data/raw/ucla_orgs_raw.json\"\n",
        "\n",
        "print(\"Libraries loaded. Ready to scrape.\")"
      ]
    },
    {
      "cell_type": "code",
      "execution_count": 3,
      "metadata": {
        "colab": {
          "base_uri": "https://localhost:8080/"
        },
        "id": "rKRYkqoc_Jci",
        "outputId": "3c419846-d2ea-4abb-f9e6-fa0eae917513"
      },
      "outputs": [
        {
          "name": "stdout",
          "output_type": "stream",
          "text": [
            "Page fetched and parsed.\n"
          ]
        }
      ],
      "source": [
        "# 3.1 Make GET request\n",
        "response = requests.get(BASE_URL)\n",
        "response.raise_for_status()  # ensure we notice bad responses :contentReference[oaicite:7]{index=7}\n",
        "\n",
        "# 3.2 Parse HTML\n",
        "soup = BeautifulSoup(response.text, \"html.parser\")\n",
        "print(\"Page fetched and parsed.\")"
      ]
    },
    {
      "cell_type": "code",
      "execution_count": 6,
      "metadata": {
        "colab": {
          "base_uri": "https://localhost:8080/"
        },
        "id": "TMFukKN7_TJ6",
        "outputId": "983abb4e-35d5-4bcb-ca93-8243f57b4791"
      },
      "outputs": [
        {
          "data": {
            "text/plain": [
              "<!DOCTYPE html>\n",
              "\n",
              "<html lang=\"en\">\n",
              "<head>\n",
              "<meta charset=\"utf-8\"/>\n",
              "<meta content=\"width=device-width, initial-scale=1.0, viewport-fit=cover\" name=\"viewport\"/>\n",
              "<meta content=\"IE=edge\" http-equiv=\"X-UA-Compatible\"/>\n",
              "<link href=\"/static/favicon.png\" rel=\"icon\" type=\"image/png\"/>\n",
              "<title>Student Organizations - UCLA Community</title>\n",
              "<meta content=\"Student Organizations\" property=\"og:title\">\n",
              "<link href=\"/static/style.min.css?957fb8930f8f1374ae1289d73923fbab\" media=\"all\" rel=\"stylesheet\"/>\n",
              "<script async=\"\" src=\"https://www.googletagmanager.com/gtag/js?id=UA-125018472-3\"></script>\n",
              "<script>\n",
              "  window.dataLayer = window.dataLayer || [];\n",
              "  function gtag(){dataLayer.push(arguments);}\n",
              "  gtag('js', new Date());\n",
              "  gtag('config', 'UA-125018472-3');\n",
              "</script>\n",
              "</meta></head>\n",
              "<body class=\"no-js\" data-path=\"/studentorgs\">\n",
              "<script>document.body.classList.remove('no-js'); document.body.classList.add('has-js'); setTimeout(function() {document.body.classList.add('js-loaded')}, 500); try{if(Intl.DateTimeFormat().resolvedOptions().timeZone==\"America/Los_Angeles\"){document.body.classList.add('env-tz-pacific')}}catch(err){}</script>\n",
              "<header class=\"siteheader\">\n",
              "<div class=\"skiplink\">\n",
              "<a href=\"#main\">Skip to Main Content</a>\n",
              "</div>\n",
              "<div class=\"topbar\">\n",
              "<div class=\"container\">\n",
              "<a aria-label=\"UCLA\" href=\"http://www.ucla.edu/\">UCLA</a>\n",
              "</div>\n",
              "</div>\n",
              "<div class=\"branding\">\n",
              "<div class=\"container\">\n",
              "<div class=\"logo-and-header-cta\">\n",
              "<a class=\"h2\" href=\"/\">Community</a>\n",
              "<button aria-controls=\"secondary-nav primary-nav searchbar\" aria-label=\"Menu\" class=\"viewport-small require-js\" id=\"primary-ham\" type=\"button\"></button>\n",
              "</div>\n",
              "<div class=\"secondary-nav\" id=\"secondary-nav\">\n",
              "<a class=\"secondary-nav-button\" href=\"/manage\">Add Your Events</a>\n",
              "</div>\n",
              "</div>\n",
              "<nav aria-label=\"Main navigation\" class=\"primary-nav\" id=\"main-nav\">\n",
              "<ul class=\"main container\">\n",
              "<li><a href=\"/studentorgs\">Student <span class=\"viewport-small viewport-large\">Organizations</span><span class=\"viewport-medium\">Orgs</span></a></li>\n",
              "<li><a href=\"/clubsports\">Club Sports</a></li>\n",
              "<li><a href=\"/programs\">Programs<span class=\"viewport-small viewport-large\"> &amp; Departments</span></a></li>\n",
              "<li><a href=\"/calendars\">Calendars</a></li>\n",
              "<li class=\"viewport-large viewport-medium\"><a aria-label=\"Search\" class=\"search\" href=\"#search\"><svg aria-hidden=\"true\" height=\"18\" viewbox=\"0 0 18 18\" width=\"18\" xmlns=\"http://www.w3.org/2000/svg\"><g fill=\"\"><path d=\"M12.5 11L11.7 11 11.4 10.7C12.4 9.6 13 8.1 13 6.5 13 2.9 10.1 0 6.5 0 2.9 0 0 2.9 0 6.5 0 10.1 2.9 13 6.5 13 8.1 13 9.6 12.4 10.7 11.4L11 11.7 11 12.5 16 17.5 17.5 16 12.5 11ZM6.5 11C4 11 2 9 2 6.5 2 4 4 2 6.5 2 9 2 11 4 11 6.5 11 9 9 11 6.5 11Z\"></path></g><title>Search</title></svg></a></li>\n",
              "</ul>\n",
              "</nav>\n",
              "<div class=\"searchbar\" id=\"searchbar\">\n",
              "<div class=\"container\">\n",
              "<form data-search-index=\"/search-index.json\" data-search-script=\"/search-script.js?392b3cd0a12183cf87406428d2989e90\" role=\"search\">\n",
              "<input id=\"search\" name=\"q\" type=\"search\"/>\n",
              "<button type=\"submit\">Search</button>\n",
              "</form>\n",
              "<div aria-live=\"polite\" id=\"searchresultssummary\"></div>\n",
              "<div id=\"searchresults\"></div>\n",
              "</div>\n",
              "</div>\n",
              "<nav aria-label=\"Breadcrumb\">\n",
              "<div class=\"container\">\n",
              "<ol class=\"breadcrumb\">\n",
              "<li><a href=\"/\">Home</a></li>\n",
              "<li aria-current=\"page\" class=\"breadcrumb-active\">Student Organizations</li>\n",
              "</ol>\n",
              "</div>\n",
              "</nav>\n",
              "</div></header>\n",
              "<main id=\"main\">\n",
              "<div class=\"container\">\n",
              "<h1>Student Organizations</h1>\n",
              "<ul class=\"buttons\">\n",
              "<li><a href=\"/studentorgs/academic\">Academic</a></li>\n",
              "<li><a href=\"/studentorgs/african-american\">African American</a></li>\n",
              "<li><a href=\"/studentorgs/arts\">Arts</a></li>\n",
              "<li><a href=\"/studentorgs/asian-pacific-islander\">Asian Pacific Islander</a></li>\n",
              "<li><a href=\"/studentorgs/asian\">Asian</a></li>\n",
              "<li><a href=\"/studentorgs/business\">Business</a></li>\n",
              "<li><a href=\"/studentorgs/career-planning\">Career Planning</a></li>\n",
              "<li><a href=\"/studentorgs/community-service\">Community Service</a></li>\n",
              "<li><a href=\"/studentorgs/cultural-ethnic\">Cultural/Ethnic</a></li>\n",
              "<li><a href=\"/studentorgs/cultural\">Cultural</a></li>\n",
              "<li><a href=\"/studentorgs/dance\">Dance</a></li>\n",
              "<li><a href=\"/studentorgs/dental\">Dental</a></li>\n",
              "<li><a href=\"/studentorgs/educational\">Educational</a></li>\n",
              "<li><a href=\"/studentorgs/engineering\">Engineering</a></li>\n",
              "<li><a href=\"/studentorgs/environmental\">Environmental</a></li>\n",
              "<li><a href=\"/studentorgs/ethnic\">Ethnic</a></li>\n",
              "<li><a href=\"/studentorgs/faculty-staff\">Faculty/Staff</a></li>\n",
              "<li><a href=\"/studentorgs/film\">Film</a></li>\n",
              "<li><a href=\"/studentorgs/fitness\">Fitness</a></li>\n",
              "<li><a href=\"/studentorgs/greek-life\">Greek Life</a></li>\n",
              "<li><a href=\"/studentorgs/gsa-affiliated\">GSA Affiliated</a></li>\n",
              "<li><a href=\"/studentorgs/health-and-wellness\">Health and Wellness</a></li>\n",
              "<li><a href=\"/studentorgs/honor-societies\">Honor Societies</a></li>\n",
              "<li><a href=\"/studentorgs/international-students\">International Students</a></li>\n",
              "<li><a href=\"/studentorgs/journals\">Journals</a></li>\n",
              "<li><a href=\"/studentorgs/latino-latina\">Latino/Latina</a></li>\n",
              "<li><a href=\"/studentorgs/law\">Law</a></li>\n",
              "<li><a href=\"/studentorgs/leadership\">Leadership</a></li>\n",
              "<li><a href=\"/studentorgs/lgbtqi\">LGBTQI</a></li>\n",
              "<li><a href=\"/studentorgs/martial-arts\">Martial Arts</a></li>\n",
              "<li><a href=\"/studentorgs/media\">Media</a></li>\n",
              "<li><a href=\"/studentorgs/medical\">Medical</a></li>\n",
              "<li><a href=\"/studentorgs/music\">Music</a></li>\n",
              "<li><a href=\"/studentorgs/out-of-state-students\">Out-of-state Students</a></li>\n",
              "<li><a href=\"/studentorgs/political\">Political</a></li>\n",
              "<li><a href=\"/studentorgs/pre-professional\">Pre-Professional</a></li>\n",
              "<li><a href=\"/studentorgs/recreation\">Recreation</a></li>\n",
              "<li><a href=\"/studentorgs/religious\">Religious</a></li>\n",
              "<li><a href=\"/studentorgs/self-improvement\">Self Improvement</a></li>\n",
              "<li><a href=\"/studentorgs/service\">Service</a></li>\n",
              "<li><a href=\"/studentorgs/social-activism\">Social Activism</a></li>\n",
              "<li><a href=\"/studentorgs/social\">Social</a></li>\n",
              "<li><a href=\"/studentorgs/spirit-booster\">Spirit/Booster</a></li>\n",
              "<li><a href=\"/studentorgs/sports\">Sports</a></li>\n",
              "<li><a href=\"/studentorgs/student-government\">Student Government</a></li>\n",
              "<li><a href=\"/studentorgs/technology\">Technology</a></li>\n",
              "<li><a href=\"/studentorgs/theater\">Theater</a></li>\n",
              "<li><a href=\"/studentorgs/transfer-students\">Transfer Students</a></li>\n",
              "</ul>\n",
              "</div>\n",
              "</main>\n",
              "<footer>\n",
              "<div class=\"container\">\n",
              "<div class=\"main\">\n",
              "<p class=\"lead\">We would love to highlight all UCLA community events on this site. <a href=\"/manage\">Add your events to the UCLA community calendar.</a></p>\n",
              "<div class=\"legal\">\n",
              "<span class=\"feedback\"><a href=\"https://sa.ucla.edu/Forms/p/cSDT8\">Website Feedback</a></span>\n",
              "<span class=\"accessibility\"><a href=\"https://www.ucla.edu/accessibility\">Accessibility</a></span>\n",
              "<span class=\"terms\"><a href=\"https://www.ucla.edu/terms-of-use/\">Terms of Use</a></span>\n",
              "<span><a href=\"https://ucla-gme-advocate.symplicity.com/public_report\">Report Misconduct</a></span>\n",
              "</div>\n",
              "</div>\n",
              "</div>\n",
              "</footer>\n",
              "<script>document.body.classList.add('js-loaded');</script>\n",
              "<script async=\"\" src=\"/static/bundle.min.js?3c9bd44f713ab1e155ee6a9f457aa0c8\"></script>\n",
              "<script>\n",
              "(function() {\n",
              "  let cs = new Set([]);\n",
              "  for(let n of [...document.body.querySelectorAll('[data-script]')]) {\n",
              "    let p = n.getAttribute('data-script');\n",
              "    if(!cs.has(p)) {\n",
              "      let s = document.createElement('script');\n",
              "      s.src = p;\n",
              "      s.async = true;\n",
              "      document.body.appendChild(s);\n",
              "      cs.add(p);\n",
              "    }\n",
              "  }\n",
              "})();\n",
              "</script>\n",
              "</body>\n",
              "</html>"
            ]
          },
          "execution_count": 6,
          "metadata": {},
          "output_type": "execute_result"
        }
      ],
      "source": [
        "soup"
      ]
    },
    {
      "cell_type": "code",
      "execution_count": 4,
      "metadata": {
        "colab": {
          "base_uri": "https://localhost:8080/"
        },
        "id": "ccJlvRkE_Pbf",
        "outputId": "a71df792-c493-4e71-a77b-59fb2b0adfd4"
      },
      "outputs": [
        {
          "name": "stdout",
          "output_type": "stream",
          "text": [
            "Found 48 categories.\n"
          ]
        }
      ],
      "source": [
        "# 4.1 Extract category links from the main page\n",
        "category_tags = soup.select(\"ul.buttons li a\")  # CSS selector for category links :contentReference[oaicite:5]{index=5}\n",
        "categories = []\n",
        "for a in category_tags:\n",
        "    name = a.get_text(strip=True)\n",
        "    href = a[\"href\"]\n",
        "    # Build full URL for the category page\n",
        "    url = requests.compat.urljoin(BASE_URL, href)  # safe URL join :contentReference[oaicite:6]{index=6}\n",
        "    categories.append({\"name\": name, \"url\": url})\n",
        "\n",
        "print(f\"Found {len(categories)} categories.\")\n"
      ]
    },
    {
      "cell_type": "code",
      "execution_count": 6,
      "metadata": {
        "colab": {
          "base_uri": "https://localhost:8080/"
        },
        "id": "MGfGgkBR_1Be",
        "outputId": "9ef80e38-0a9f-4eb8-917a-ee7bc840ad84"
      },
      "outputs": [
        {
          "name": "stdout",
          "output_type": "stream",
          "text": [
            "Total records collected: 2832\n"
          ]
        }
      ],
      "source": [
        "# 4.2 Iterate through each category and scrape organizations\n",
        "records = []\n",
        "for cat in categories:\n",
        "    resp = requests.get(cat[\"url\"])         # GET request for category page :contentReference[oaicite:7]{index=7}\n",
        "    resp.raise_for_status()\n",
        "    cat_soup = BeautifulSoup(resp.text, \"html.parser\")  # Parse HTML :contentReference[oaicite:8]{index=8}\n",
        "\n",
        "    # Each org is in an <li> with an <a> child\n",
        "    org_items = cat_soup.select(\"main .container ul > li\")  # adjust selector if needed :contentReference[oaicite:9]{index=9}\n",
        "    for li in org_items:\n",
        "        link = li.select_one(\"a\")\n",
        "        if not link:\n",
        "            continue\n",
        "\n",
        "        # Split link text into name and description\n",
        "        full_text = link.get_text(strip=True)\n",
        "        # Assume the first sentence break ('. ') separates name vs. description\n",
        "        parts = full_text.split(\". \", 1)\n",
        "        name = parts[0].strip()\n",
        "        desc = parts[1].strip() if len(parts) > 1 else \"\"\n",
        "\n",
        "        records.append({\n",
        "            \"category\": cat[\"name\"],\n",
        "            \"name\": name,\n",
        "            \"description\": desc\n",
        "        })\n",
        "\n",
        "    time.sleep(1)  # polite delay between requests :contentReference[oaicite:10]{index=10}\n",
        "\n",
        "print(f\"Total records collected: {len(records)}\")\n"
      ]
    },
    {
      "cell_type": "code",
      "execution_count": 15,
      "metadata": {},
      "outputs": [
        {
          "name": "stdout",
          "output_type": "stream",
          "text": [
            "Total records collected: 2829\n"
          ]
        }
      ],
      "source": [
        "# 4.2 Adjusted: Iterate through each category and scrape organizations with correct selectors\n",
        "import time\n",
        "\n",
        "records = []\n",
        "for cat in categories:\n",
        "    resp = requests.get(cat[\"url\"])\n",
        "    resp.raise_for_status()\n",
        "    cat_soup = BeautifulSoup(resp.text, \"html.parser\")\n",
        "\n",
        "    # Select each card element (the org “tile”)\n",
        "    org_cards = cat_soup.select(\"main .container ul > li .card\")  # adjust to match actual wrapper class\n",
        "    for card in org_cards:\n",
        "        # Within the card, card-content holds name & description\n",
        "        content = card.select_one(\"span.card-content\")\n",
        "        if not content:\n",
        "            continue\n",
        "\n",
        "        # Name in <strong class=\"h4\">\n",
        "        name_tag = content.select_one(\"strong.h4\")\n",
        "        name = name_tag.get_text(strip=True) if name_tag else None\n",
        "\n",
        "        # Description in <span class=\"description\">\n",
        "        desc_tag = content.select_one(\"span.description\")\n",
        "        desc = desc_tag.get_text(strip=True) if desc_tag else \"\"\n",
        "\n",
        "        records.append({\n",
        "            \"category\": cat[\"name\"],\n",
        "            \"name\": name,\n",
        "            \"description\": desc\n",
        "        })\n",
        "\n",
        "    time.sleep(1)  # polite delay\n",
        "\n",
        "print(f\"Total records collected: {len(records)}\")\n"
      ]
    },
    {
      "cell_type": "code",
      "execution_count": 19,
      "metadata": {},
      "outputs": [
        {
          "name": "stdout",
          "output_type": "stream",
          "text": [
            "Total records collected with full descriptions: 2829\n"
          ]
        }
      ],
      "source": [
        "# 4.2 Revised: Scrape each card and then fetch its detail page for the full description\n",
        "\n",
        "import time\n",
        "from urllib.parse import urljoin\n",
        "\n",
        "records = []\n",
        "for cat in categories:\n",
        "    # 1) GET the category page\n",
        "    resp = requests.get(cat[\"url\"])\n",
        "    resp.raise_for_status()\n",
        "    cat_soup = BeautifulSoup(resp.text, \"html.parser\")\n",
        "    \n",
        "    # 2) Select each card link\n",
        "    card_links = cat_soup.select(\"main .container ul > li a.card\")\n",
        "    for link in card_links:\n",
        "        # Basic metadata\n",
        "        name = link.select_one(\"strong.h4\").get_text(strip=True)\n",
        "        short_desc = link.select_one(\"span.description\").get_text(strip=True)\n",
        "        \n",
        "        # 3) Follow the href to get the full page\n",
        "        detail_url = urljoin(BASE_URL, link[\"href\"])\n",
        "        detail_resp = requests.get(detail_url)\n",
        "        detail_resp.raise_for_status()\n",
        "        detail_soup = BeautifulSoup(detail_resp.text, \"html.parser\")\n",
        "        \n",
        "        # 4) Extract the full description if available\n",
        "        full_desc_tag = detail_soup.select_one(\"p.org-description\")\n",
        "        full_desc = full_desc_tag.get_text(strip=True) if full_desc_tag else short_desc\n",
        "        \n",
        "        records.append({\n",
        "            \"category\":   cat[\"name\"],\n",
        "            \"name\":       name,\n",
        "            \"description\": full_desc,\n",
        "            \"detail_url\": detail_url\n",
        "        })\n",
        "    \n",
        "    time.sleep(1)   # be polite to the server\n",
        "\n",
        "print(f\"Total records collected with full descriptions: {len(records)}\")\n"
      ]
    },
    {
      "cell_type": "code",
      "execution_count": 20,
      "metadata": {
        "colab": {
          "base_uri": "https://localhost:8080/",
          "height": 180
        },
        "id": "tnz8KQqE_3sQ",
        "outputId": "0bdbd1c3-b4f8-4bf8-849c-76ec86fb1b8b"
      },
      "outputs": [
        {
          "data": {
            "text/html": [
              "<div>\n",
              "<style scoped>\n",
              "    .dataframe tbody tr th:only-of-type {\n",
              "        vertical-align: middle;\n",
              "    }\n",
              "\n",
              "    .dataframe tbody tr th {\n",
              "        vertical-align: top;\n",
              "    }\n",
              "\n",
              "    .dataframe thead th {\n",
              "        text-align: right;\n",
              "    }\n",
              "</style>\n",
              "<table border=\"1\" class=\"dataframe\">\n",
              "  <thead>\n",
              "    <tr style=\"text-align: right;\">\n",
              "      <th></th>\n",
              "      <th>category</th>\n",
              "      <th>name</th>\n",
              "      <th>description</th>\n",
              "      <th>detail_url</th>\n",
              "    </tr>\n",
              "  </thead>\n",
              "  <tbody>\n",
              "    <tr>\n",
              "      <th>0</th>\n",
              "      <td>Academic</td>\n",
              "      <td>Academic, Mentorship, and Professional Develop...</td>\n",
              "      <td>AMPD provides MSA UCLA members services and re...</td>\n",
              "      <td>https://community.ucla.edu/studentorg/3176</td>\n",
              "    </tr>\n",
              "    <tr>\n",
              "      <th>1</th>\n",
              "      <td>Academic</td>\n",
              "      <td>Academy Health Student Chapter at UCLA</td>\n",
              "      <td>In partnership with the health services resear...</td>\n",
              "      <td>https://community.ucla.edu/studentorg/997</td>\n",
              "    </tr>\n",
              "    <tr>\n",
              "      <th>2</th>\n",
              "      <td>Academic</td>\n",
              "      <td>AI Robotics Ethics Society</td>\n",
              "      <td>As technology advances at an exponential rate,...</td>\n",
              "      <td>https://community.ucla.edu/studentorg/3936</td>\n",
              "    </tr>\n",
              "    <tr>\n",
              "      <th>3</th>\n",
              "      <td>Academic</td>\n",
              "      <td>al-Arabiyya</td>\n",
              "      <td>At al-Arabiyya, we believe in the infinite cre...</td>\n",
              "      <td>https://community.ucla.edu/studentorg/6350</td>\n",
              "    </tr>\n",
              "    <tr>\n",
              "      <th>4</th>\n",
              "      <td>Academic</td>\n",
              "      <td>Aleph: Undergraduate Research Journal for the ...</td>\n",
              "      <td>Aleph (pronounced “ah-lef”) is UCLA’s only off...</td>\n",
              "      <td>https://community.ucla.edu/studentorg/3145</td>\n",
              "    </tr>\n",
              "    <tr>\n",
              "      <th>...</th>\n",
              "      <td>...</td>\n",
              "      <td>...</td>\n",
              "      <td>...</td>\n",
              "      <td>...</td>\n",
              "    </tr>\n",
              "    <tr>\n",
              "      <th>2824</th>\n",
              "      <td>Transfer Students</td>\n",
              "      <td>Non-Traditional Student Network</td>\n",
              "      <td>The Network is a support system for students r...</td>\n",
              "      <td>https://community.ucla.edu/studentorg/5585</td>\n",
              "    </tr>\n",
              "    <tr>\n",
              "      <th>2825</th>\n",
              "      <td>Transfer Students</td>\n",
              "      <td>Pilipino Transfer Student Partnership</td>\n",
              "      <td>Our mission is to raise awareness about cultur...</td>\n",
              "      <td>https://community.ucla.edu/studentorg/60</td>\n",
              "    </tr>\n",
              "    <tr>\n",
              "      <th>2826</th>\n",
              "      <td>Transfer Students</td>\n",
              "      <td>Student Transfer Outreach and Mentor Program</td>\n",
              "      <td>Student Transfer Outreach and Mentor Program (...</td>\n",
              "      <td>https://community.ucla.edu/studentorg/30</td>\n",
              "    </tr>\n",
              "    <tr>\n",
              "      <th>2827</th>\n",
              "      <td>Transfer Students</td>\n",
              "      <td>Transfer Research Connection</td>\n",
              "      <td>The Transfer Research Connection at UCLA is a ...</td>\n",
              "      <td>https://community.ucla.edu/studentorg/6315</td>\n",
              "    </tr>\n",
              "    <tr>\n",
              "      <th>2828</th>\n",
              "      <td>Transfer Students</td>\n",
              "      <td>TransferMed</td>\n",
              "      <td>TransferMed is a Pre-Health organization at UC...</td>\n",
              "      <td>https://community.ucla.edu/studentorg/4427</td>\n",
              "    </tr>\n",
              "  </tbody>\n",
              "</table>\n",
              "<p>2829 rows × 4 columns</p>\n",
              "</div>"
            ],
            "text/plain": [
              "               category                                               name  \\\n",
              "0              Academic  Academic, Mentorship, and Professional Develop...   \n",
              "1              Academic             Academy Health Student Chapter at UCLA   \n",
              "2              Academic                         AI Robotics Ethics Society   \n",
              "3              Academic                                        al-Arabiyya   \n",
              "4              Academic  Aleph: Undergraduate Research Journal for the ...   \n",
              "...                 ...                                                ...   \n",
              "2824  Transfer Students                    Non-Traditional Student Network   \n",
              "2825  Transfer Students              Pilipino Transfer Student Partnership   \n",
              "2826  Transfer Students       Student Transfer Outreach and Mentor Program   \n",
              "2827  Transfer Students                       Transfer Research Connection   \n",
              "2828  Transfer Students                                        TransferMed   \n",
              "\n",
              "                                            description  \\\n",
              "0     AMPD provides MSA UCLA members services and re...   \n",
              "1     In partnership with the health services resear...   \n",
              "2     As technology advances at an exponential rate,...   \n",
              "3     At al-Arabiyya, we believe in the infinite cre...   \n",
              "4     Aleph (pronounced “ah-lef”) is UCLA’s only off...   \n",
              "...                                                 ...   \n",
              "2824  The Network is a support system for students r...   \n",
              "2825  Our mission is to raise awareness about cultur...   \n",
              "2826  Student Transfer Outreach and Mentor Program (...   \n",
              "2827  The Transfer Research Connection at UCLA is a ...   \n",
              "2828  TransferMed is a Pre-Health organization at UC...   \n",
              "\n",
              "                                      detail_url  \n",
              "0     https://community.ucla.edu/studentorg/3176  \n",
              "1      https://community.ucla.edu/studentorg/997  \n",
              "2     https://community.ucla.edu/studentorg/3936  \n",
              "3     https://community.ucla.edu/studentorg/6350  \n",
              "4     https://community.ucla.edu/studentorg/3145  \n",
              "...                                          ...  \n",
              "2824  https://community.ucla.edu/studentorg/5585  \n",
              "2825    https://community.ucla.edu/studentorg/60  \n",
              "2826    https://community.ucla.edu/studentorg/30  \n",
              "2827  https://community.ucla.edu/studentorg/6315  \n",
              "2828  https://community.ucla.edu/studentorg/4427  \n",
              "\n",
              "[2829 rows x 4 columns]"
            ]
          },
          "execution_count": 20,
          "metadata": {},
          "output_type": "execute_result"
        }
      ],
      "source": [
        "# 4.3 Build DataFrame & save to JSON\n",
        "df_raw = pd.DataFrame(records)                   # Construct DataFrame :contentReference[oaicite:11]{index=11}\n",
        "df_raw"
      ]
    },
    {
      "cell_type": "code",
      "execution_count": 22,
      "metadata": {},
      "outputs": [],
      "source": [
        "df_raw.to_csv('df_raw.csv', index=False)  # Save to CSV :contentReference[oaicite:12]{index=12}"
      ]
    },
    {
      "cell_type": "code",
      "execution_count": 25,
      "metadata": {},
      "outputs": [
        {
          "data": {
            "text/plain": [
              "category       0\n",
              "name           0\n",
              "description    0\n",
              "detail_url     0\n",
              "dtype: int64"
            ]
          },
          "execution_count": 25,
          "metadata": {},
          "output_type": "execute_result"
        }
      ],
      "source": [
        "df_raw.isna().sum()  # Check for missing values :contentReference[oaicite:12]{index=12}"
      ]
    },
    {
      "cell_type": "code",
      "execution_count": 26,
      "metadata": {},
      "outputs": [
        {
          "name": "stdout",
          "output_type": "stream",
          "text": [
            "Raw JSON written to /Users/davidliu/Desktop/STATS418/ucla-student-orgs-project/data/raw/ucla_orgs_raw.json\n"
          ]
        }
      ],
      "source": [
        "# Export as JSON lines for easy downstream loading\n",
        "json_str = df_raw.to_json(orient=\"records\", lines=True)  # JSON lines output :contentReference[oaicite:12]{index=12}\n",
        "\n",
        "with open(RAW_JSON_PATH, \"w\") as f:              # Write to file (built-in open) :contentReference[oaicite:13]{index=13}\n",
        "    f.write(json_str)\n",
        "\n",
        "print(f\"Raw JSON written to {RAW_JSON_PATH}\")"
      ]
    },
    {
      "cell_type": "code",
      "execution_count": 27,
      "metadata": {},
      "outputs": [
        {
          "name": "stdout",
          "output_type": "stream",
          "text": [
            "Raw shape: (2829, 4)\n"
          ]
        },
        {
          "data": {
            "text/html": [
              "<div>\n",
              "<style scoped>\n",
              "    .dataframe tbody tr th:only-of-type {\n",
              "        vertical-align: middle;\n",
              "    }\n",
              "\n",
              "    .dataframe tbody tr th {\n",
              "        vertical-align: top;\n",
              "    }\n",
              "\n",
              "    .dataframe thead th {\n",
              "        text-align: right;\n",
              "    }\n",
              "</style>\n",
              "<table border=\"1\" class=\"dataframe\">\n",
              "  <thead>\n",
              "    <tr style=\"text-align: right;\">\n",
              "      <th></th>\n",
              "      <th>category</th>\n",
              "      <th>name</th>\n",
              "      <th>description</th>\n",
              "      <th>detail_url</th>\n",
              "    </tr>\n",
              "  </thead>\n",
              "  <tbody>\n",
              "    <tr>\n",
              "      <th>0</th>\n",
              "      <td>Academic</td>\n",
              "      <td>Academic, Mentorship, and Professional Develop...</td>\n",
              "      <td>AMPD provides MSA UCLA members services and re...</td>\n",
              "      <td>https://community.ucla.edu/studentorg/3176</td>\n",
              "    </tr>\n",
              "    <tr>\n",
              "      <th>1</th>\n",
              "      <td>Academic</td>\n",
              "      <td>Academy Health Student Chapter at UCLA</td>\n",
              "      <td>In partnership with the health services resear...</td>\n",
              "      <td>https://community.ucla.edu/studentorg/997</td>\n",
              "    </tr>\n",
              "    <tr>\n",
              "      <th>2</th>\n",
              "      <td>Academic</td>\n",
              "      <td>AI Robotics Ethics Society</td>\n",
              "      <td>As technology advances at an exponential rate,...</td>\n",
              "      <td>https://community.ucla.edu/studentorg/3936</td>\n",
              "    </tr>\n",
              "    <tr>\n",
              "      <th>3</th>\n",
              "      <td>Academic</td>\n",
              "      <td>al-Arabiyya</td>\n",
              "      <td>At al-Arabiyya, we believe in the infinite cre...</td>\n",
              "      <td>https://community.ucla.edu/studentorg/6350</td>\n",
              "    </tr>\n",
              "    <tr>\n",
              "      <th>4</th>\n",
              "      <td>Academic</td>\n",
              "      <td>Aleph: Undergraduate Research Journal for the ...</td>\n",
              "      <td>Aleph (pronounced “ah-lef”) is UCLA’s only off...</td>\n",
              "      <td>https://community.ucla.edu/studentorg/3145</td>\n",
              "    </tr>\n",
              "  </tbody>\n",
              "</table>\n",
              "</div>"
            ],
            "text/plain": [
              "   category                                               name  \\\n",
              "0  Academic  Academic, Mentorship, and Professional Develop...   \n",
              "1  Academic             Academy Health Student Chapter at UCLA   \n",
              "2  Academic                         AI Robotics Ethics Society   \n",
              "3  Academic                                        al-Arabiyya   \n",
              "4  Academic  Aleph: Undergraduate Research Journal for the ...   \n",
              "\n",
              "                                         description  \\\n",
              "0  AMPD provides MSA UCLA members services and re...   \n",
              "1  In partnership with the health services resear...   \n",
              "2  As technology advances at an exponential rate,...   \n",
              "3  At al-Arabiyya, we believe in the infinite cre...   \n",
              "4  Aleph (pronounced “ah-lef”) is UCLA’s only off...   \n",
              "\n",
              "                                   detail_url  \n",
              "0  https://community.ucla.edu/studentorg/3176  \n",
              "1   https://community.ucla.edu/studentorg/997  \n",
              "2  https://community.ucla.edu/studentorg/3936  \n",
              "3  https://community.ucla.edu/studentorg/6350  \n",
              "4  https://community.ucla.edu/studentorg/3145  "
            ]
          },
          "execution_count": 27,
          "metadata": {},
          "output_type": "execute_result"
        }
      ],
      "source": [
        "# 5.2 Paths\n",
        "RAW_PATH       = \"data/raw/ucla_orgs_raw.json\"\n",
        "CLEANED_CSV    = \"data/processed/ucla_orgs_cleaned.csv\"\n",
        "\n",
        "# 5.3 Ensure output folder exists\n",
        "os.makedirs(os.path.dirname(CLEANED_CSV), exist_ok=True)\n",
        "\n",
        "# 5.4 Load raw JSON lines\n",
        "df = pd.read_json(RAW_PATH, lines=True)\n",
        "print(\"Raw shape:\", df.shape)\n",
        "df.head()"
      ]
    },
    {
      "cell_type": "code",
      "execution_count": 29,
      "metadata": {},
      "outputs": [
        {
          "name": "stdout",
          "output_type": "stream",
          "text": [
            "category       0\n",
            "name           0\n",
            "description    0\n",
            "detail_url     0\n",
            "dtype: int64\n",
            "Dropped 0 duplicate rows\n"
          ]
        }
      ],
      "source": [
        "# 5.5 Inspect missingness\n",
        "print(df.isna().sum())\n",
        "\n",
        "# 5.6 Fill or drop missing descriptions\n",
        "# If description is NaN or empty, fill with placeholder\n",
        "df[\"description\"] = df[\"description\"].fillna(\"\").str.strip()\n",
        "\n",
        "# 5.7 Normalize text\n",
        "# - Category: lowercase, strip whitespace\n",
        "# - Name: strip extra whitespace\n",
        "df[\"category\"] = df[\"category\"].str.lower().str.strip()\n",
        "df[\"name\"]     = df[\"name\"].str.strip()\n",
        "\n",
        "# 5.8 Drop exact duplicates (by name & category)\n",
        "before = df.shape[0]\n",
        "df = df.drop_duplicates(subset=[\"name\",\"category\"])\n",
        "after  = df.shape[0]\n",
        "print(f\"Dropped {before-after} duplicate rows\")"
      ]
    },
    {
      "cell_type": "code",
      "execution_count": 31,
      "metadata": {},
      "outputs": [
        {
          "name": "stdout",
          "output_type": "stream",
          "text": [
            "Clean data written to data/processed/ucla_orgs_cleaned.csv, shape=(2829, 4)\n"
          ]
        }
      ],
      "source": [
        "# 5.10 Save cleaned data\n",
        "df.to_csv(CLEANED_CSV, index=False)\n",
        "print(f\"Clean data written to {CLEANED_CSV}, shape={df.shape}\")"
      ]
    }
  ],
  "metadata": {
    "colab": {
      "provenance": []
    },
    "kernelspec": {
      "display_name": "Python 3",
      "name": "python3"
    },
    "language_info": {
      "codemirror_mode": {
        "name": "ipython",
        "version": 3
      },
      "file_extension": ".py",
      "mimetype": "text/x-python",
      "name": "python",
      "nbconvert_exporter": "python",
      "pygments_lexer": "ipython3",
      "version": "3.13.2"
    }
  },
  "nbformat": 4,
  "nbformat_minor": 0
}
