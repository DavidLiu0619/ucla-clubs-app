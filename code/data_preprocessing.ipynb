{
  "cells": [
    {
      "cell_type": "code",
      "execution_count": 10,
      "metadata": {},
      "outputs": [
        {
          "data": {
            "text/html": [
              "<div>\n",
              "<style scoped>\n",
              "    .dataframe tbody tr th:only-of-type {\n",
              "        vertical-align: middle;\n",
              "    }\n",
              "\n",
              "    .dataframe tbody tr th {\n",
              "        vertical-align: top;\n",
              "    }\n",
              "\n",
              "    .dataframe thead th {\n",
              "        text-align: right;\n",
              "    }\n",
              "</style>\n",
              "<table border=\"1\" class=\"dataframe\">\n",
              "  <thead>\n",
              "    <tr style=\"text-align: right;\">\n",
              "      <th></th>\n",
              "      <th>category</th>\n",
              "      <th>name</th>\n",
              "      <th>description</th>\n",
              "      <th>detail_url</th>\n",
              "    </tr>\n",
              "  </thead>\n",
              "  <tbody>\n",
              "    <tr>\n",
              "      <th>0</th>\n",
              "      <td>academic</td>\n",
              "      <td>Academic, Mentorship, and Professional Develop...</td>\n",
              "      <td>AMPD provides MSA UCLA members services and re...</td>\n",
              "      <td>https://community.ucla.edu/studentorg/3176</td>\n",
              "    </tr>\n",
              "    <tr>\n",
              "      <th>1</th>\n",
              "      <td>academic</td>\n",
              "      <td>Academy Health Student Chapter at UCLA</td>\n",
              "      <td>In partnership with the health services resear...</td>\n",
              "      <td>https://community.ucla.edu/studentorg/997</td>\n",
              "    </tr>\n",
              "    <tr>\n",
              "      <th>2</th>\n",
              "      <td>academic</td>\n",
              "      <td>AI Robotics Ethics Society</td>\n",
              "      <td>As technology advances at an exponential rate,...</td>\n",
              "      <td>https://community.ucla.edu/studentorg/3936</td>\n",
              "    </tr>\n",
              "    <tr>\n",
              "      <th>3</th>\n",
              "      <td>academic</td>\n",
              "      <td>al-Arabiyya</td>\n",
              "      <td>At al-Arabiyya, we believe in the infinite cre...</td>\n",
              "      <td>https://community.ucla.edu/studentorg/6350</td>\n",
              "    </tr>\n",
              "    <tr>\n",
              "      <th>4</th>\n",
              "      <td>academic</td>\n",
              "      <td>Aleph: Undergraduate Research Journal for the ...</td>\n",
              "      <td>Aleph (pronounced “ah-lef”) is UCLA’s only off...</td>\n",
              "      <td>https://community.ucla.edu/studentorg/3145</td>\n",
              "    </tr>\n",
              "  </tbody>\n",
              "</table>\n",
              "</div>"
            ],
            "text/plain": [
              "   category                                               name  \\\n",
              "0  academic  Academic, Mentorship, and Professional Develop...   \n",
              "1  academic             Academy Health Student Chapter at UCLA   \n",
              "2  academic                         AI Robotics Ethics Society   \n",
              "3  academic                                        al-Arabiyya   \n",
              "4  academic  Aleph: Undergraduate Research Journal for the ...   \n",
              "\n",
              "                                         description  \\\n",
              "0  AMPD provides MSA UCLA members services and re...   \n",
              "1  In partnership with the health services resear...   \n",
              "2  As technology advances at an exponential rate,...   \n",
              "3  At al-Arabiyya, we believe in the infinite cre...   \n",
              "4  Aleph (pronounced “ah-lef”) is UCLA’s only off...   \n",
              "\n",
              "                                   detail_url  \n",
              "0  https://community.ucla.edu/studentorg/3176  \n",
              "1   https://community.ucla.edu/studentorg/997  \n",
              "2  https://community.ucla.edu/studentorg/3936  \n",
              "3  https://community.ucla.edu/studentorg/6350  \n",
              "4  https://community.ucla.edu/studentorg/3145  "
            ]
          },
          "execution_count": 10,
          "metadata": {},
          "output_type": "execute_result"
        }
      ],
      "source": [
        "import pandas as pd\n",
        "from sklearn.preprocessing import MultiLabelBinarizer\n",
        "import numpy as np\n",
        "\n",
        "# 1. Load your cleaned data\n",
        "df = pd.read_csv(\"ucla_orgs_cleaned.csv\")\n",
        "df.head()\n"
      ]
    },
    {
      "cell_type": "code",
      "execution_count": 14,
      "metadata": {},
      "outputs": [
        {
          "data": {
            "text/plain": [
              "(2829, 4)"
            ]
          },
          "execution_count": 14,
          "metadata": {},
          "output_type": "execute_result"
        }
      ],
      "source": [
        "df.shape"
      ]
    },
    {
      "cell_type": "code",
      "execution_count": 12,
      "metadata": {},
      "outputs": [
        {
          "data": {
            "text/plain": [
              "1439"
            ]
          },
          "execution_count": 12,
          "metadata": {},
          "output_type": "execute_result"
        }
      ],
      "source": [
        "len(np.unique(df[\"name\"].values))"
      ]
    },
    {
      "cell_type": "code",
      "execution_count": 37,
      "metadata": {},
      "outputs": [
        {
          "data": {
            "text/plain": [
              "1439"
            ]
          },
          "execution_count": 37,
          "metadata": {},
          "output_type": "execute_result"
        }
      ],
      "source": [
        "len(np.unique(df[\"detail_url\"].values))"
      ]
    },
    {
      "cell_type": "code",
      "execution_count": 13,
      "metadata": {},
      "outputs": [
        {
          "data": {
            "text/plain": [
              "48"
            ]
          },
          "execution_count": 13,
          "metadata": {},
          "output_type": "execute_result"
        }
      ],
      "source": [
        "len(np.unique(df[\"category\"].values))"
      ]
    },
    {
      "cell_type": "code",
      "execution_count": 32,
      "metadata": {},
      "outputs": [
        {
          "data": {
            "text/plain": [
              "category\n",
              "service                   256\n",
              "medical                   231\n",
              "academic                  171\n",
              "educational               159\n",
              "social                    137\n",
              "health and wellness       125\n",
              "community service         113\n",
              "cultural                  106\n",
              "leadership                105\n",
              "social activism            98\n",
              "arts                       92\n",
              "law                        86\n",
              "business                   81\n",
              "religious                  79\n",
              "pre-professional           75\n",
              "music                      71\n",
              "engineering                70\n",
              "career planning            68\n",
              "greek life                 66\n",
              "cultural/ethnic            60\n",
              "technology                 58\n",
              "environmental              47\n",
              "student government         46\n",
              "dance                      37\n",
              "journals                   36\n",
              "political                  35\n",
              "recreation                 34\n",
              "media                      34\n",
              "sports                     28\n",
              "dental                     23\n",
              "latino/latina              20\n",
              "self improvement           19\n",
              "lgbtqi                     19\n",
              "international students     16\n",
              "honor societies            14\n",
              "african american           14\n",
              "ethnic                     14\n",
              "asian                      14\n",
              "theater                    13\n",
              "asian pacific islander     13\n",
              "film                       12\n",
              "gsa affiliated              9\n",
              "fitness                     8\n",
              "transfer students           7\n",
              "spirit/booster              5\n",
              "faculty/staff               3\n",
              "martial arts                1\n",
              "out-of-state students       1\n",
              "Name: count, dtype: int64"
            ]
          },
          "execution_count": 32,
          "metadata": {},
          "output_type": "execute_result"
        }
      ],
      "source": [
        "df[\"category\"].value_counts()"
      ]
    },
    {
      "cell_type": "code",
      "execution_count": 33,
      "metadata": {},
      "outputs": [],
      "source": [
        "# 1. For each club name, collect its unique categories, sort them, and join with \" and \"\n",
        "def combine_categories(cat_series):\n",
        "    cats = sorted(set(cat_series))\n",
        "    return \" and \".join(cats)\n",
        "\n",
        "# 2. Group by club name and recombine fields\n",
        "df_unique = (\n",
        "    df\n",
        "    .groupby(\"name\", as_index=False)\n",
        "    .agg({\n",
        "        \"category\": combine_categories,     # new combined category\n",
        "        \"description\": \"first\",             # or you could join descriptions if needed\n",
        "        \"detail_url\": \"first\"                      # same for URL\n",
        "    })\n",
        ")"
      ]
    },
    {
      "cell_type": "code",
      "execution_count": 34,
      "metadata": {},
      "outputs": [
        {
          "data": {
            "text/plain": [
              "(1439, 4)"
            ]
          },
          "execution_count": 34,
          "metadata": {},
          "output_type": "execute_result"
        }
      ],
      "source": [
        "df_unique.shape"
      ]
    },
    {
      "cell_type": "code",
      "execution_count": 35,
      "metadata": {},
      "outputs": [
        {
          "data": {
            "text/plain": [
              "376"
            ]
          },
          "execution_count": 35,
          "metadata": {},
          "output_type": "execute_result"
        }
      ],
      "source": [
        "len(np.unique(df_unique[\"category\"].values))"
      ]
    },
    {
      "cell_type": "code",
      "execution_count": 38,
      "metadata": {},
      "outputs": [
        {
          "data": {
            "text/plain": [
              "1439"
            ]
          },
          "execution_count": 38,
          "metadata": {},
          "output_type": "execute_result"
        }
      ],
      "source": [
        "len(np.unique(df[\"detail_url\"].values))"
      ]
    },
    {
      "cell_type": "code",
      "execution_count": 39,
      "metadata": {},
      "outputs": [
        {
          "data": {
            "text/plain": [
              "category\n",
              "medical and service                53\n",
              "greek life and leadership          28\n",
              "health and wellness and medical    28\n",
              "religious                          27\n",
              "engineering and technology         25\n",
              "                                   ..\n",
              "asian and dance                     1\n",
              "career planning and cultural        1\n",
              "cultural and faculty/staff          1\n",
              "business and sports                 1\n",
              "asian and music                     1\n",
              "Name: count, Length: 376, dtype: int64"
            ]
          },
          "execution_count": 39,
          "metadata": {},
          "output_type": "execute_result"
        }
      ],
      "source": [
        "df_unique[\"category\"].value_counts()"
      ]
    },
    {
      "cell_type": "code",
      "execution_count": 40,
      "metadata": {},
      "outputs": [],
      "source": [
        "df_unique.to_csv(\"ucla_orgs_cleaned_unique.csv\", index=False)"
      ]
    }
  ],
  "metadata": {
    "colab": {
      "provenance": []
    },
    "kernelspec": {
      "display_name": "base",
      "language": "python",
      "name": "python3"
    },
    "language_info": {
      "codemirror_mode": {
        "name": "ipython",
        "version": 3
      },
      "file_extension": ".py",
      "mimetype": "text/x-python",
      "name": "python",
      "nbconvert_exporter": "python",
      "pygments_lexer": "ipython3",
      "version": "3.12.7"
    }
  },
  "nbformat": 4,
  "nbformat_minor": 0
}
